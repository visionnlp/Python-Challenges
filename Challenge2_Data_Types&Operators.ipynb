{
 "cells": [
  {
   "cell_type": "markdown",
   "id": "8b23a7bb",
   "metadata": {},
   "source": [
    "## 1. print the data type of variable `x`"
   ]
  },
  {
   "cell_type": "code",
   "execution_count": null,
   "id": "1e626cb8",
   "metadata": {},
   "outputs": [],
   "source": [
    "x = 5\n"
   ]
  },
  {
   "cell_type": "markdown",
   "id": "22a07b93",
   "metadata": {},
   "source": [
    "## 2. what will be datatype of following variable, mention answer in comments"
   ]
  },
  {
   "cell_type": "code",
   "execution_count": null,
   "id": "01f04b02",
   "metadata": {},
   "outputs": [],
   "source": [
    "var = 'VisioNLP'"
   ]
  },
  {
   "cell_type": "markdown",
   "id": "9bc22064",
   "metadata": {},
   "source": [
    "## 3. Insert the correct syntax to convert x into a int data type."
   ]
  },
  {
   "cell_type": "code",
   "execution_count": null,
   "id": "f078bb23",
   "metadata": {},
   "outputs": [],
   "source": [
    "x = 10.44\n",
    "___(x)"
   ]
  },
  {
   "cell_type": "markdown",
   "id": "f7437f3d",
   "metadata": {},
   "source": [
    "## 4. Convert x into string"
   ]
  },
  {
   "cell_type": "code",
   "execution_count": null,
   "id": "278ed539",
   "metadata": {},
   "outputs": [],
   "source": [
    "x = 65"
   ]
  },
  {
   "cell_type": "markdown",
   "id": "2588d6db",
   "metadata": {},
   "source": [
    "## 5. Multipy 10 with 5, and print the result."
   ]
  },
  {
   "cell_type": "code",
   "execution_count": null,
   "id": "9b131677",
   "metadata": {},
   "outputs": [],
   "source": []
  },
  {
   "cell_type": "markdown",
   "id": "515ea494",
   "metadata": {},
   "source": [
    "## 6. Use assignment operator and Perform Multiplication x and y values and store it in x"
   ]
  },
  {
   "cell_type": "code",
   "execution_count": null,
   "id": "9de736cd",
   "metadata": {},
   "outputs": [],
   "source": []
  },
  {
   "cell_type": "markdown",
   "id": "8b1ad3fd",
   "metadata": {},
   "source": [
    "## 7. Correct the following statement"
   ]
  },
  {
   "cell_type": "code",
   "execution_count": null,
   "id": "43f2d0af",
   "metadata": {},
   "outputs": [],
   "source": [
    "x = x + 6 = 3"
   ]
  },
  {
   "cell_type": "markdown",
   "id": "202db653",
   "metadata": {},
   "source": [
    "## 8. Correct the following line"
   ]
  },
  {
   "cell_type": "code",
   "execution_count": null,
   "id": "cdf2e074",
   "metadata": {},
   "outputs": [],
   "source": [
    "x = 9\n",
    "y = 6\n",
    "\n",
    "x => y"
   ]
  },
  {
   "cell_type": "markdown",
   "id": "83284d19",
   "metadata": {},
   "source": [
    "## 9. list out different data types"
   ]
  },
  {
   "cell_type": "code",
   "execution_count": null,
   "id": "b257840c",
   "metadata": {},
   "outputs": [],
   "source": []
  },
  {
   "cell_type": "markdown",
   "id": "52551e9a",
   "metadata": {},
   "source": [
    "## 10. Add and display/print  few examples of your choice of arithmetic operatios "
   ]
  }
 ],
 "metadata": {
  "kernelspec": {
   "display_name": "Python 3 (ipykernel)",
   "language": "python",
   "name": "python3"
  },
  "language_info": {
   "codemirror_mode": {
    "name": "ipython",
    "version": 3
   },
   "file_extension": ".py",
   "mimetype": "text/x-python",
   "name": "python",
   "nbconvert_exporter": "python",
   "pygments_lexer": "ipython3",
   "version": "3.9.12"
  }
 },
 "nbformat": 4,
 "nbformat_minor": 5
}
